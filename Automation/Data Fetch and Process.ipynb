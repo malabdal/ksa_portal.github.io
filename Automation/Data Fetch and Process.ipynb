{
 "cells": [
  {
   "cell_type": "code",
   "execution_count": 1,
   "metadata": {},
   "outputs": [],
   "source": [
    "# imports\n",
    "import selenium\n",
    "from selenium import webdriver\n",
    "from selenium.webdriver import ActionChains\n",
    "from selenium.webdriver.common.keys import Keys\n",
    "import time\n",
    "driver = webdriver.Chrome('./chromedriver')\n",
    "import pandas as pd\n",
    "import glob\n",
    "import os.path\n",
    "import json"
   ]
  },
  {
   "cell_type": "code",
   "execution_count": 2,
   "metadata": {},
   "outputs": [],
   "source": [
    "def Upload_Data_as_JSON(URL, New_Name):\n",
    "    # add country name\n",
    "    country_name = 'Saudi Arabia'\n",
    "\n",
    "    time.sleep(2)\n",
    "    #Reads the URL \n",
    "    driver.get(URL)\n",
    "\n",
    "    #Waits till the page loads\n",
    "    time.sleep(60)\n",
    "\n",
    "    #finds the download button\n",
    "    s=driver.find_element_by_xpath('/html/body/div/div/div/div[1]/header/div/div/div[2]/div/div[1]/div/button/span[1]/div')\n",
    "\n",
    "    time.sleep(10)\n",
    "\n",
    "    s.click()\n",
    "\n",
    "    #Choose to export the data as excel\n",
    "    c=driver.find_element_by_xpath('/html/body/div/div/div/div[1]/header/div/div/div[2]/div/div[1]/div[2]/div[2]/div[2]/li[2]/span[1]')\n",
    "\n",
    "    time.sleep(10)\n",
    "\n",
    "    c.click()\n",
    "\n",
    "    print('Downloading Data')\n",
    "\n",
    "    time.sleep(60)\n",
    "\n",
    "    #Specify where the data usually loads and choose the last downloaded file\n",
    "    folder_path = '../../../../Downloads/'\n",
    "\n",
    "    file_type = '/*xlsx'\n",
    "    files = glob.glob(folder_path + file_type)\n",
    "    max_file = max(files, key=os.path.getctime)\n",
    "\n",
    "\n",
    "    #Saving the data as dic instead of excel\n",
    "\n",
    "    df = pd.read_excel(max_file)\n",
    "    df = df.rename(lambda x: 'Country' if any(k in x for k in ['Country Name', 'Reporter', 'Country ']) else x, axis=1)\n",
    "    df = df[df['Country'] == country_name]\n",
    "    df = df.where(pd.notnull(df), None)\n",
    "    import_file = df.to_dict(orient='records')\n",
    "    print (import_file)\n",
    "    \n",
    "    #Save the file as a json with the name you specified\n",
    "    with open(New_Name+ '.json', 'w') as fp:\n",
    "        json.dump(import_file, fp)\n",
    "    \n",
    "    return import_file"
   ]
  },
  {
   "cell_type": "code",
   "execution_count": 3,
   "metadata": {},
   "outputs": [
    {
     "name": "stdout",
     "output_type": "stream",
     "text": [
      "Starting with Document:  0\n",
      "Downloading Data\n",
      "[{'Indicator': 'Net enrolment rate in primary education (percent)', 'Country': 'Saudi Arabia', 'Age': '5-14 years', 'Sex': 'Both sexes', 'Education level': 'Primary', 'Sector': 'Sector NA', 'Nationality': 'Nationality Total', '2000': None, '2001': None, '2002': None, '2003': None, '2004': None, '2005': None, '2006': None, '2007': None, '2008': None, '2009': None, '2010': 96.58, '2011': 96.55, '2012': 96.51, '2013': 96.49, '2014': 97.39, '2015': 97.9, '2016': 95.44, '2017': 96.97, '2018': 95.96, '2019': None}, {'Indicator': 'Net enrolment rate in primary education (percent)', 'Country': 'Saudi Arabia', 'Age': '5-14 years', 'Sex': 'Female', 'Education level': 'Primary', 'Sector': 'Sector NA', 'Nationality': 'Nationality Total', '2000': None, '2001': None, '2002': None, '2003': None, '2004': None, '2005': None, '2006': None, '2007': None, '2008': None, '2009': None, '2010': 96.52, '2011': 96.5, '2012': 96.65, '2013': 97.77, '2014': 98.66, '2015': 98.67, '2016': 94.99, '2017': 97.14, '2018': 95.87, '2019': None}, {'Indicator': 'Net enrolment rate in primary education (percent)', 'Country': 'Saudi Arabia', 'Age': '5-14 years', 'Sex': 'Male', 'Education level': 'Primary', 'Sector': 'Sector NA', 'Nationality': 'Nationality Total', '2000': None, '2001': None, '2002': None, '2003': None, '2004': None, '2005': None, '2006': None, '2007': None, '2008': None, '2009': None, '2010': 96.63, '2011': 96.6, '2012': 96.37, '2013': 95.32, '2014': 96.24, '2015': 97.17, '2016': 95.88, '2017': 96.8, '2018': 96.04, '2019': None}, {'Indicator': 'Net enrolment rate in secondary education (percent)', 'Country': 'Saudi Arabia', 'Age': '15-17 years', 'Sex': 'Both sexes', 'Education level': 'Secondary', 'Sector': 'Sector NA', 'Nationality': 'Nationality Total', '2000': None, '2001': None, '2002': None, '2003': None, '2004': None, '2005': None, '2006': None, '2007': None, '2008': None, '2009': None, '2010': 80.7, '2011': 82.78, '2012': 83.05, '2013': 88.28, '2014': 97.1, '2015': 95.21, '2016': 90.34, '2017': 92.06, '2018': 95.94, '2019': None}, {'Indicator': 'Net enrolment rate in secondary education (percent)', 'Country': 'Saudi Arabia', 'Age': '15-17 years', 'Sex': 'Female', 'Education level': 'Secondary', 'Sector': 'Sector NA', 'Nationality': 'Nationality Total', '2000': None, '2001': None, '2002': None, '2003': None, '2004': None, '2005': None, '2006': None, '2007': None, '2008': None, '2009': None, '2010': 83.04, '2011': 85.32, '2012': 86.1, '2013': 96.92, '2014': None, '2015': 98.26, '2016': 89.83, '2017': 92.02, '2018': 95.28, '2019': None}, {'Indicator': 'Net enrolment rate in secondary education (percent)', 'Country': 'Saudi Arabia', 'Age': '15-17 years', 'Sex': 'Male', 'Education level': 'Secondary', 'Sector': 'Sector NA', 'Nationality': 'Nationality Total', '2000': None, '2001': None, '2002': None, '2003': None, '2004': None, '2005': None, '2006': None, '2007': None, '2008': None, '2009': None, '2010': 78.41, '2011': 80.31, '2012': 80.09, '2013': 81.0, '2014': 94.18, '2015': 92.22, '2016': 90.82, '2017': 92.1, '2018': 96.56, '2019': None}, {'Indicator': 'Gross enrolment ratio in primary education (percent)', 'Country': 'Saudi Arabia', 'Age': '5-14 years', 'Sex': 'Both sexes', 'Education level': 'Primary', 'Sector': 'Sector NA', 'Nationality': 'Nationality Total', '2000': None, '2001': None, '2002': None, '2003': None, '2004': None, '2005': None, '2006': None, '2007': None, '2008': None, '2009': None, '2010': 106.04, '2011': 106.01, '2012': 106.14, '2013': 106.4, '2014': 108.17, '2015': 107.8, '2016': 102.13, '2017': 99.34, '2018': 99.37, '2019': None}, {'Indicator': 'Gross enrolment ratio in primary education (percent)', 'Country': 'Saudi Arabia', 'Age': '5-14 years', 'Sex': 'Female', 'Education level': 'Primary', 'Sector': 'Sector NA', 'Nationality': 'Nationality Total', '2000': None, '2001': None, '2002': None, '2003': None, '2004': None, '2005': None, '2006': None, '2007': None, '2008': None, '2009': None, '2010': 105.74, '2011': 105.75, '2012': 106.37, '2013': 108.09, '2014': 110.19, '2015': 108.76, '2016': 101.57, '2017': 99.46, '2018': 99.23, '2019': None}, {'Indicator': 'Gross enrolment ratio in primary education (percent)', 'Country': 'Saudi Arabia', 'Age': '5-14 years', 'Sex': 'Male', 'Education level': 'Primary', 'Sector': 'Sector NA', 'Nationality': 'Nationality Total', '2000': None, '2001': None, '2002': None, '2003': None, '2004': None, '2005': None, '2006': None, '2007': None, '2008': None, '2009': None, '2010': 106.32, '2011': 106.27, '2012': 105.93, '2013': 104.87, '2014': 106.35, '2015': 106.89, '2016': 102.66, '2017': 99.23, '2018': 99.51, '2019': None}, {'Indicator': 'Gross enrolment ratio in secondary education (percent)', 'Country': 'Saudi Arabia', 'Age': '15-17 years', 'Sex': 'Both sexes', 'Education level': 'Secondary', 'Sector': 'Sector NA', 'Nationality': 'Nationality Total', '2000': None, '2001': None, '2002': None, '2003': None, '2004': None, '2005': None, '2006': None, '2007': None, '2008': None, '2009': None, '2010': 100.57, '2011': 103.46, '2012': 105.34, '2013': 112.02, '2014': 113.32, '2015': 110.87, '2016': 109.23, '2017': 106.29, '2018': 106.81, '2019': None}, {'Indicator': 'Gross enrolment ratio in secondary education (percent)', 'Country': 'Saudi Arabia', 'Age': '15-17 years', 'Sex': 'Female', 'Education level': 'Secondary', 'Sector': 'Sector NA', 'Nationality': 'Nationality Total', '2000': None, '2001': None, '2002': None, '2003': None, '2004': None, '2005': None, '2006': None, '2007': None, '2008': None, '2009': None, '2010': 97.79, '2011': 100.51, '2012': 103.37, '2013': 116.54, '2014': 116.83, '2015': 112.89, '2016': 108.72, '2017': 104.74, '2018': 107.46, '2019': None}, {'Indicator': 'Gross enrolment ratio in secondary education (percent)', 'Country': 'Saudi Arabia', 'Age': '15-17 years', 'Sex': 'Male', 'Education level': 'Secondary', 'Sector': 'Sector NA', 'Nationality': 'Nationality Total', '2000': None, '2001': None, '2002': None, '2003': None, '2004': None, '2005': None, '2006': None, '2007': None, '2008': None, '2009': None, '2010': 103.26, '2011': 106.32, '2012': 107.24, '2013': 108.21, '2014': 110.52, '2015': 108.88, '2016': 109.7, '2017': 107.74, '2018': 106.2, '2019': None}, {'Indicator': 'Pupil-teacher ratio (percent)', 'Country': 'Saudi Arabia', 'Age': 'Age not available', 'Sex': 'Both sexes', 'Education level': 'Primary', 'Sector': 'Private', 'Nationality': 'Nationality NA', '2000': None, '2001': None, '2002': None, '2003': None, '2004': None, '2005': None, '2006': None, '2007': None, '2008': None, '2009': None, '2010': 9.99, '2011': 10.4, '2012': 10.28, '2013': 10.16, '2014': None, '2015': None, '2016': None, '2017': None, '2018': None, '2019': None}, {'Indicator': 'Pupil-teacher ratio (percent)', 'Country': 'Saudi Arabia', 'Age': 'Age not available', 'Sex': 'Both sexes', 'Education level': 'Primary', 'Sector': 'Public ', 'Nationality': 'Nationality NA', '2000': None, '2001': None, '2002': None, '2003': None, '2004': None, '2005': None, '2006': None, '2007': None, '2008': None, '2009': None, '2010': 11.2872785925729, '2011': 11.08, '2012': 10.96, '2013': 10.42, '2014': None, '2015': None, '2016': None, '2017': None, '2018': None, '2019': None}, {'Indicator': 'Pupil-teacher ratio (percent)', 'Country': 'Saudi Arabia', 'Age': 'Age not available', 'Sex': 'Both sexes', 'Education level': 'Secondary', 'Sector': 'Private', 'Nationality': 'Nationality NA', '2000': None, '2001': None, '2002': None, '2003': None, '2004': None, '2005': None, '2006': None, '2007': None, '2008': None, '2009': None, '2010': 6.97, '2011': 12.11, '2012': 13.32, '2013': 12.0, '2014': None, '2015': None, '2016': None, '2017': None, '2018': None, '2019': None}, {'Indicator': 'Pupil-teacher ratio (percent)', 'Country': 'Saudi Arabia', 'Age': 'Age not available', 'Sex': 'Both sexes', 'Education level': 'Secondary', 'Sector': 'Public ', 'Nationality': 'Nationality NA', '2000': None, '2001': None, '2002': None, '2003': None, '2004': None, '2005': None, '2006': None, '2007': None, '2008': None, '2009': None, '2010': 10.3199092851172, '2011': 10.09, '2012': 9.81, '2013': 9.55, '2014': None, '2015': None, '2016': None, '2017': None, '2018': None, '2019': None}, {'Indicator': 'Pupil-teacher ratio (percent)', 'Country': 'Saudi Arabia', 'Age': 'Age not available', 'Sex': 'Female', 'Education level': 'Primary', 'Sector': 'Private', 'Nationality': 'Nationality NA', '2000': None, '2001': None, '2002': None, '2003': None, '2004': None, '2005': None, '2006': None, '2007': None, '2008': None, '2009': None, '2010': 8.89, '2011': 8.79, '2012': 8.34, '2013': 8.7, '2014': None, '2015': None, '2016': None, '2017': None, '2018': None, '2019': None}, {'Indicator': 'Pupil-teacher ratio (percent)', 'Country': 'Saudi Arabia', 'Age': 'Age not available', 'Sex': 'Female', 'Education level': 'Primary', 'Sector': 'Public ', 'Nationality': 'Nationality NA', '2000': None, '2001': None, '2002': None, '2003': None, '2004': None, '2005': None, '2006': None, '2007': None, '2008': None, '2009': None, '2010': 11.15, '2011': 11.05, '2012': 10.88, '2013': 9.73, '2014': None, '2015': None, '2016': None, '2017': None, '2018': None, '2019': None}, {'Indicator': 'Pupil-teacher ratio (percent)', 'Country': 'Saudi Arabia', 'Age': 'Age not available', 'Sex': 'Female', 'Education level': 'Secondary', 'Sector': 'Private', 'Nationality': 'Nationality NA', '2000': None, '2001': None, '2002': None, '2003': None, '2004': None, '2005': None, '2006': None, '2007': None, '2008': None, '2009': None, '2010': 6.2, '2011': 9.11, '2012': 10.11, '2013': 10.03, '2014': None, '2015': None, '2016': None, '2017': None, '2018': None, '2019': None}, {'Indicator': 'Pupil-teacher ratio (percent)', 'Country': 'Saudi Arabia', 'Age': 'Age not available', 'Sex': 'Female', 'Education level': 'Secondary', 'Sector': 'Public ', 'Nationality': 'Nationality NA', '2000': None, '2001': None, '2002': None, '2003': None, '2004': None, '2005': None, '2006': None, '2007': None, '2008': None, '2009': None, '2010': 9.41, '2011': 9.42, '2012': 9.01, '2013': 8.78, '2014': None, '2015': None, '2016': None, '2017': None, '2018': None, '2019': None}, {'Indicator': 'Pupil-teacher ratio (percent)', 'Country': 'Saudi Arabia', 'Age': 'Age not available', 'Sex': 'Male', 'Education level': 'Primary', 'Sector': 'Private', 'Nationality': 'Nationality NA', '2000': None, '2001': None, '2002': None, '2003': None, '2004': None, '2005': None, '2006': None, '2007': None, '2008': None, '2009': None, '2010': 10.88, '2011': 11.77, '2012': 11.99, '2013': 11.25, '2014': None, '2015': None, '2016': None, '2017': None, '2018': None, '2019': None}, {'Indicator': 'Pupil-teacher ratio (percent)', 'Country': 'Saudi Arabia', 'Age': 'Age not available', 'Sex': 'Male', 'Education level': 'Primary', 'Sector': 'Public ', 'Nationality': 'Nationality NA', '2000': None, '2001': None, '2002': None, '2003': None, '2004': None, '2005': None, '2006': None, '2007': None, '2008': None, '2009': None, '2010': 11.48, '2011': 11.11, '2012': 11.04, '2013': 11.21, '2014': None, '2015': None, '2016': None, '2017': None, '2018': None, '2019': None}, {'Indicator': 'Pupil-teacher ratio (percent)', 'Country': 'Saudi Arabia', 'Age': 'Age not available', 'Sex': 'Male', 'Education level': 'Secondary', 'Sector': 'Private', 'Nationality': 'Nationality NA', '2000': None, '2001': None, '2002': None, '2003': None, '2004': None, '2005': None, '2006': None, '2007': None, '2008': None, '2009': None, '2010': 7.45, '2011': 14.47, '2012': 15.86, '2013': 13.27, '2014': None, '2015': None, '2016': None, '2017': None, '2018': None, '2019': None}, {'Indicator': 'Pupil-teacher ratio (percent)', 'Country': 'Saudi Arabia', 'Age': 'Age not available', 'Sex': 'Male', 'Education level': 'Secondary', 'Sector': 'Public ', 'Nationality': 'Nationality NA', '2000': None, '2001': None, '2002': None, '2003': None, '2004': None, '2005': None, '2006': None, '2007': None, '2008': None, '2009': None, '2010': 11.41, '2011': 10.87, '2012': 10.78, '2013': 10.46, '2014': None, '2015': None, '2016': None, '2017': None, '2018': None, '2019': None}, {'Indicator': 'Distribution of educational institutions (number)', 'Country': 'Saudi Arabia', 'Age': 'Age not available', 'Sex': 'Sex NA', 'Education level': 'Primary', 'Sector': 'Private', 'Nationality': 'Nationality NA', '2000': None, '2001': None, '2002': None, '2003': None, '2004': None, '2005': None, '2006': None, '2007': None, '2008': None, '2009': None, '2010': 1124.0, '2011': 1177.0, '2012': 1244.0, '2013': 1220.0, '2014': None, '2015': None, '2016': None, '2017': None, '2018': None, '2019': None}, {'Indicator': 'Distribution of educational institutions (number)', 'Country': 'Saudi Arabia', 'Age': 'Age not available', 'Sex': 'Sex NA', 'Education level': 'Primary', 'Sector': 'Public ', 'Nationality': 'Nationality NA', '2000': None, '2001': None, '2002': None, '2003': None, '2004': None, '2005': None, '2006': None, '2007': None, '2008': None, '2009': None, '2010': 12478.0, '2011': 12451.0, '2012': 12601.0, '2013': 12581.0, '2014': None, '2015': None, '2016': None, '2017': None, '2018': None, '2019': None}, {'Indicator': 'Distribution of educational institutions (number)', 'Country': 'Saudi Arabia', 'Age': 'Age not available', 'Sex': 'Sex NA', 'Education level': 'Secondary', 'Sector': 'Private', 'Nationality': 'Nationality NA', '2000': None, '2001': None, '2002': None, '2003': None, '2004': None, '2005': None, '2006': None, '2007': None, '2008': None, '2009': None, '2010': 1563.0, '2011': 1670.0, '2012': 1707.0, '2013': 1777.0, '2014': None, '2015': None, '2016': None, '2017': None, '2018': None, '2019': None}, {'Indicator': 'Distribution of educational institutions (number)', 'Country': 'Saudi Arabia', 'Age': 'Age not available', 'Sex': 'Sex NA', 'Education level': 'Secondary', 'Sector': 'Public ', 'Nationality': 'Nationality NA', '2000': None, '2001': None, '2002': None, '2003': None, '2004': None, '2005': None, '2006': None, '2007': None, '2008': None, '2009': None, '2010': 11256.0, '2011': 11636.0, '2012': 11725.0, '2013': 12141.0, '2014': None, '2015': None, '2016': None, '2017': None, '2018': None, '2019': None}, {'Indicator': 'Adult literacy rates', 'Country': 'Saudi Arabia', 'Age': '15+ years', 'Sex': 'Both sexes', 'Education level': 'Education level NA', 'Sector': 'Sector NA', 'Nationality': 'Nationality Total', '2000': None, '2001': None, '2002': None, '2003': None, '2004': None, '2005': None, '2006': None, '2007': 85.1, '2008': None, '2009': None, '2010': None, '2011': None, '2012': 93.19, '2013': 94.43, '2014': None, '2015': None, '2016': None, '2017': 95.3278451300042, '2018': 96.2937215563929, '2019': None}, {'Indicator': 'Adult literacy rates', 'Country': 'Saudi Arabia', 'Age': '15+ years', 'Sex': 'Both sexes', 'Education level': 'Education level NA', 'Sector': 'Sector NA', 'Nationality': 'Nationals', '2000': None, '2001': None, '2002': None, '2003': None, '2004': None, '2005': None, '2006': None, '2007': None, '2008': None, '2009': None, '2010': None, '2011': None, '2012': 91.5, '2013': 93.19, '2014': None, '2015': None, '2016': None, '2017': 94.3662701396412, '2018': 95.2881616845527, '2019': None}, {'Indicator': 'Adult literacy rates', 'Country': 'Saudi Arabia', 'Age': '15+ years', 'Sex': 'Both sexes', 'Education level': 'Education level NA', 'Sector': 'Sector NA', 'Nationality': 'Non-nationals', '2000': None, '2001': None, '2002': None, '2003': None, '2004': None, '2005': None, '2006': None, '2007': None, '2008': None, '2009': None, '2010': None, '2011': None, '2012': 95.8, '2013': 96.52, '2014': None, '2015': None, '2016': None, '2017': 96.654240025393, '2018': 97.6473289225902, '2019': None}, {'Indicator': 'Adult literacy rates', 'Country': 'Saudi Arabia', 'Age': '15+ years', 'Sex': 'Female', 'Education level': 'Education level NA', 'Sector': 'Sector NA', 'Nationality': 'Nationality Total', '2000': None, '2001': None, '2002': None, '2003': None, '2004': None, '2005': None, '2006': None, '2007': 78.6, '2008': None, '2009': None, '2010': None, '2011': None, '2012': 90.55, '2013': 91.37, '2014': None, '2015': None, '2016': None, '2017': 92.7056586856745, '2018': 93.8937000208115, '2019': None}, {'Indicator': 'Adult literacy rates', 'Country': 'Saudi Arabia', 'Age': '15+ years', 'Sex': 'Female', 'Education level': 'Education level NA', 'Sector': 'Sector NA', 'Nationality': 'Nationals', '2000': None, '2001': None, '2002': None, '2003': None, '2004': None, '2005': None, '2006': None, '2007': None, '2008': None, '2009': None, '2010': None, '2011': None, '2012': 87.3, '2013': 90.08, '2014': None, '2015': None, '2016': None, '2017': 91.321477887184, '2018': 92.6127078747597, '2019': None}, {'Indicator': 'Adult literacy rates', 'Country': 'Saudi Arabia', 'Age': '15+ years', 'Sex': 'Female', 'Education level': 'Education level NA', 'Sector': 'Sector NA', 'Nationality': 'Non-nationals', '2000': None, '2001': None, '2002': None, '2003': None, '2004': None, '2005': None, '2006': None, '2007': None, '2008': None, '2009': None, '2010': None, '2011': None, '2012': 95.48, '2013': 95.57, '2014': None, '2015': None, '2016': None, '2017': 95.9951148634097, '2018': 96.8779354660901, '2019': None}, {'Indicator': 'Adult literacy rates', 'Country': 'Saudi Arabia', 'Age': '15+ years', 'Sex': 'Male', 'Education level': 'Education level NA', 'Sector': 'Sector NA', 'Nationality': 'Nationality Total', '2000': None, '2001': None, '2002': None, '2003': None, '2004': None, '2005': None, '2006': None, '2007': 89.9, '2008': None, '2009': None, '2010': None, '2011': None, '2012': 96.25, '2013': 96.03, '2014': None, '2015': None, '2016': None, '2017': 97.1033085452958, '2018': 97.9074758448257, '2019': None}, {'Indicator': 'Adult literacy rates', 'Country': 'Saudi Arabia', 'Age': '15+ years', 'Sex': 'Male', 'Education level': 'Education level NA', 'Sector': 'Sector NA', 'Nationality': 'Nationals', '2000': None, '2001': None, '2002': None, '2003': None, '2004': None, '2005': None, '2006': None, '2007': None, '2008': None, '2009': None, '2010': None, '2011': None, '2012': 95.3, '2013': 96.25, '2014': None, '2015': None, '2016': None, '2017': 97.2935297705108, '2018': 97.861542746387, '2019': None}, {'Indicator': 'Adult literacy rates', 'Country': 'Saudi Arabia', 'Age': '15+ years', 'Sex': 'Male', 'Education level': 'Education level NA', 'Sector': 'Sector NA', 'Nationality': 'Non-nationals', '2000': None, '2001': None, '2002': None, '2003': None, '2004': None, '2005': None, '2006': None, '2007': None, '2008': None, '2009': None, '2010': None, '2011': None, '2012': 96.83, '2013': 96.86, '2014': None, '2015': None, '2016': None, '2017': 96.9163356730191, '2018': 97.951450739068, '2019': None}, {'Indicator': 'Youth literacy rates ', 'Country': 'Saudi Arabia', 'Age': '15-24 years', 'Sex': 'Both sexes', 'Education level': 'Education level NA', 'Sector': 'Sector NA', 'Nationality': 'Nationality Total', '2000': 95.91, '2001': None, '2002': None, '2003': None, '2004': 95.85, '2005': None, '2006': None, '2007': None, '2008': None, '2009': None, '2010': None, '2011': None, '2012': None, '2013': 99.22, '2014': None, '2015': None, '2016': None, '2017': 99.3, '2018': None, '2019': None}, {'Indicator': 'Youth literacy rates ', 'Country': 'Saudi Arabia', 'Age': '15-24 years', 'Sex': 'Both sexes', 'Education level': 'Education level NA', 'Sector': 'Sector NA', 'Nationality': 'Nationals', '2000': None, '2001': None, '2002': None, '2003': None, '2004': None, '2005': None, '2006': None, '2007': None, '2008': None, '2009': None, '2010': None, '2011': None, '2012': None, '2013': 99.5, '2014': None, '2015': None, '2016': None, '2017': 99.55, '2018': None, '2019': None}, {'Indicator': 'Youth literacy rates ', 'Country': 'Saudi Arabia', 'Age': '15-24 years', 'Sex': 'Both sexes', 'Education level': 'Education level NA', 'Sector': 'Sector NA', 'Nationality': 'Non-nationals', '2000': None, '2001': None, '2002': None, '2003': None, '2004': None, '2005': None, '2006': None, '2007': None, '2008': None, '2009': None, '2010': None, '2011': None, '2012': None, '2013': 97.88, '2014': None, '2015': None, '2016': None, '2017': 98.34, '2018': None, '2019': None}, {'Indicator': 'Youth literacy rates ', 'Country': 'Saudi Arabia', 'Age': '15-24 years', 'Sex': 'Female', 'Education level': 'Education level NA', 'Sector': 'Sector NA', 'Nationality': 'Nationality Total', '2000': 93.71, '2001': None, '2002': None, '2003': None, '2004': 94.68, '2005': None, '2006': None, '2007': None, '2008': None, '2009': None, '2010': None, '2011': None, '2012': None, '2013': 99.14, '2014': None, '2015': None, '2016': None, '2017': 99.28, '2018': None, '2019': None}, {'Indicator': 'Youth literacy rates ', 'Country': 'Saudi Arabia', 'Age': '15-24 years', 'Sex': 'Female', 'Education level': 'Education level NA', 'Sector': 'Sector NA', 'Nationality': 'Nationals', '2000': None, '2001': None, '2002': None, '2003': None, '2004': None, '2005': None, '2006': None, '2007': None, '2008': None, '2009': None, '2010': None, '2011': None, '2012': None, '2013': 99.39, '2014': None, '2015': None, '2016': None, '2017': 99.48, '2018': None, '2019': None}, {'Indicator': 'Youth literacy rates ', 'Country': 'Saudi Arabia', 'Age': '15-24 years', 'Sex': 'Female', 'Education level': 'Education level NA', 'Sector': 'Sector NA', 'Nationality': 'Non-nationals', '2000': None, '2001': None, '2002': None, '2003': None, '2004': None, '2005': None, '2006': None, '2007': None, '2008': None, '2009': None, '2010': None, '2011': None, '2012': None, '2013': 97.71, '2014': None, '2015': None, '2016': None, '2017': 98.46, '2018': None, '2019': None}, {'Indicator': 'Youth literacy rates ', 'Country': 'Saudi Arabia', 'Age': '15-24 years', 'Sex': 'Male', 'Education level': 'Education level NA', 'Sector': 'Sector NA', 'Nationality': 'Nationality Total', '2000': 98.07, '2001': None, '2002': None, '2003': None, '2004': 96.95, '2005': None, '2006': None, '2007': None, '2008': None, '2009': None, '2010': None, '2011': None, '2012': None, '2013': 99.3, '2014': None, '2015': None, '2016': None, '2017': 99.32, '2018': None, '2019': None}, {'Indicator': 'Youth literacy rates ', 'Country': 'Saudi Arabia', 'Age': '15-24 years', 'Sex': 'Male', 'Education level': 'Education level NA', 'Sector': 'Sector NA', 'Nationality': 'Nationals', '2000': None, '2001': None, '2002': None, '2003': None, '2004': None, '2005': None, '2006': None, '2007': None, '2008': None, '2009': None, '2010': None, '2011': None, '2012': None, '2013': 99.6, '2014': None, '2015': None, '2016': None, '2017': 99.62, '2018': None, '2019': None}, {'Indicator': 'Youth literacy rates ', 'Country': 'Saudi Arabia', 'Age': '15-24 years', 'Sex': 'Male', 'Education level': 'Education level NA', 'Sector': 'Sector NA', 'Nationality': 'Non-nationals', '2000': None, '2001': None, '2002': None, '2003': None, '2004': None, '2005': None, '2006': None, '2007': None, '2008': None, '2009': None, '2010': None, '2011': None, '2012': None, '2013': 98.01, '2014': None, '2015': None, '2016': None, '2017': 98.23, '2018': None, '2019': None}, {'Indicator': 'Expenditure on education as a percentage of total government expenditure  (percent)', 'Country': 'Saudi Arabia', 'Age': 'Age not available', 'Sex': 'Sex NA', 'Education level': 'Education level NA', 'Sector': 'Sector NA', 'Nationality': 'Nationality NA', '2000': 17.83659, '2001': 20.89614, '2002': 21.29412, '2003': 21.45522, '2004': 20.18866, '2005': 19.29229, '2006': 21.60387, '2007': None, '2008': 19.25742, '2009': None, '2010': None, '2011': None, '2012': None, '2013': None, '2014': None, '2015': None, '2016': None, '2017': None, '2018': None, '2019': None}, {'Indicator': 'Government expenditure on education as a percentage of GDP (percent)', 'Country': 'Saudi Arabia', 'Age': 'Age not available', 'Sex': 'Sex NA', 'Education level': 'Education level NA', 'Sector': 'Sector NA', 'Nationality': 'Nationality NA', '2000': 5.90982, '2001': 7.71887, '2002': 7.63689, '2003': 7.10509, '2004': 6.27747, '2005': 5.43092, '2006': 5.89117, '2007': None, '2008': 5.13781, '2009': None, '2010': None, '2011': None, '2012': None, '2013': None, '2014': None, '2015': None, '2016': None, '2017': None, '2018': None, '2019': None}]\n",
      "Finished document:  0\n"
     ]
    },
    {
     "name": "stderr",
     "output_type": "stream",
     "text": [
      "/Users/malabdal/opt/anaconda3/lib/python3.8/site-packages/openpyxl/styles/stylesheet.py:214: UserWarning: Workbook contains no default style, apply openpyxl's default\n",
      "  warn(\"Workbook contains no default style, apply openpyxl's default\")\n"
     ]
    }
   ],
   "source": [
    "#Add the URLs\n",
    "URLs=[\n",
    "#     'https://data.unescwa.org/portal/c78f8929-babc-40d9-8d9b-a5438396d3a7', #National Accounts\n",
    "#     'https://data.unescwa.org/portal/37e07376-dcab-4c77-b25d-b63c6c1c0d4b', #Finance\n",
    "#     'https://data.unescwa.org/portal/a2f766e6-f2c0-4444-aa73-ccd0d7abf05d', #Trade\n",
    "#     'https://data.unescwa.org/portal/79a73daa-8d9e-47dd-b1ee-bfed2b22124e', #Transport\n",
    "#     'https://data.unescwa.org/portal/ae81b7b7-05b5-4b39-b87a-1243bef7b232', #Industry\n",
    "#     'https://data.unescwa.org/portal/CPI',                                  #CPI\n",
    "#     'https://data.unescwa.org/portal/a400b071-fd51-4aac-87ae-175627339bdd', #ICP\n",
    "#     'https://data.unescwa.org/portal/gems_data',                            #GEMS\n",
    "#     'https://data.unescwa.org/portal/7bae8f12-f543-407f-9afa-29471d6b7c6d', #Population\n",
    "#     'https://data.unescwa.org/portal/e68647fb-ea6d-488d-a6f5-2024b080c2cc', #Household Budget\n",
    "#     'https://data.unescwa.org/portal/8c972cac-a80c-4bd4-8208-74c6a092e225', #Health\n",
    "    'https://data.unescwa.org/portal/e7d41253-2cf5-4f3b-ba5f-6c45b8af1f88', #Education\n",
    "#     'https://data.unescwa.org/portal/69b86687-53d8-4c50-b5d7-b6c96df42d0b', #Labor\n",
    "#     'https://data.unescwa.org/portal/e28b867b-13b6-4d97-ad5e-85264879c2ef', #Environment\n",
    "#     'https://data.unescwa.org/portal/ed5c2876-01e0-492b-9fad-49702ec6d934', #Energy\n",
    "#     'https://data.unescwa.org/share/618997eb-93eb-466c-b768-50557b5ae7b2' #SDG\n",
    "\n",
    "    ]\n",
    "\n",
    "#Names of the new saved data\n",
    "\n",
    "Names=[\n",
    "#     'National Accounts',\n",
    "#     'Finance',\n",
    "#     'Trade',\n",
    "#     'Transport',\n",
    "#     'Industry',\n",
    "#     'CPI',\n",
    "#     'ICP',\n",
    "#     'GEMS',\n",
    "#     'Population',\n",
    "#     'Household Budget',\n",
    "    'Health',\n",
    "#     'Education',\n",
    "#     'Labor',\n",
    "#     'Environment',\n",
    "#     'Energy',\n",
    "#     'SDG'\n",
    "\n",
    "    \n",
    "    ]\n",
    "\n",
    "   \n",
    "for i in range(len(URLs)):\n",
    "    print(\"Starting with Document: \" ,i)\n",
    "    Upload_Data_as_JSON(URLs[i], Names[i])\n",
    "    print(\"Finished document: \" , i)\n"
   ]
  },
  {
   "cell_type": "code",
   "execution_count": null,
   "metadata": {},
   "outputs": [],
   "source": []
  },
  {
   "cell_type": "code",
   "execution_count": null,
   "metadata": {},
   "outputs": [],
   "source": []
  }
 ],
 "metadata": {
  "kernelspec": {
   "display_name": "Python 3",
   "language": "python",
   "name": "python3"
  },
  "language_info": {
   "codemirror_mode": {
    "name": "ipython",
    "version": 3
   },
   "file_extension": ".py",
   "mimetype": "text/x-python",
   "name": "python",
   "nbconvert_exporter": "python",
   "pygments_lexer": "ipython3",
   "version": "3.8.5"
  }
 },
 "nbformat": 4,
 "nbformat_minor": 4
}
